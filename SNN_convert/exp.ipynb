{
 "cells": [
  {
   "cell_type": "code",
   "execution_count": 1,
   "metadata": {},
   "outputs": [
    {
     "name": "stderr",
     "output_type": "stream",
     "text": [
      "2025-05-30 00:13:08.694241: I tensorflow/core/platform/cpu_feature_guard.cc:193] This TensorFlow binary is optimized with oneAPI Deep Neural Network Library (oneDNN) to use the following CPU instructions in performance-critical operations:  SSE4.1 SSE4.2 AVX AVX2 FMA\n",
      "To enable them in other operations, rebuild TensorFlow with the appropriate compiler flags.\n"
     ]
    }
   ],
   "source": [
    "import tensorflow as tf\n",
    "from tensorflow.keras.models import load_model"
   ]
  },
  {
   "cell_type": "code",
   "execution_count": 2,
   "metadata": {},
   "outputs": [
    {
     "name": "stderr",
     "output_type": "stream",
     "text": [
      "2025-05-30 00:13:18.313783: I tensorflow/core/platform/cpu_feature_guard.cc:193] This TensorFlow binary is optimized with oneAPI Deep Neural Network Library (oneDNN) to use the following CPU instructions in performance-critical operations:  SSE4.1 SSE4.2 AVX AVX2 FMA\n",
      "To enable them in other operations, rebuild TensorFlow with the appropriate compiler flags.\n"
     ]
    }
   ],
   "source": [
    "model = load_model('model.h5')"
   ]
  },
  {
   "cell_type": "code",
   "execution_count": 12,
   "metadata": {},
   "outputs": [
    {
     "name": "stdout",
     "output_type": "stream",
     "text": [
      "Model: \"model\"\n",
      "_________________________________________________________________\n",
      " Layer (type)                Output Shape              Param #   \n",
      "=================================================================\n",
      " input.1 (InputLayer)        [(None, 500, 6, 1)]       0         \n",
      "                                                                 \n",
      " conv_Conv_output_0 (Conv2D)  (None, 500, 1, 64)       448       \n",
      "                                                                 \n",
      " temp_conv_temp_conv.0_Conv_  (None, 502, 1, 64)       0         \n",
      " output_0_pad (ZeroPadding2D                                     \n",
      " )                                                               \n",
      "                                                                 \n",
      " temp_conv_temp_conv.0_Conv_  (None, 250, 1, 32)       6176      \n",
      " output_0 (Conv2D)                                               \n",
      "                                                                 \n",
      " temp_conv_temp_conv.1_Conv_  (None, 252, 1, 32)       0         \n",
      " output_0_pad (ZeroPadding2D                                     \n",
      " )                                                               \n",
      "                                                                 \n",
      " temp_conv_temp_conv.1_Conv_  (None, 250, 1, 32)       3104      \n",
      " output_0 (Conv2D)                                               \n",
      "                                                                 \n",
      " temp_conv_temp_conv.2_Relu_  (None, 250, 1, 32)       0         \n",
      " output_0 (Activation)                                           \n",
      "                                                                 \n",
      " temp_conv_temp_conv.3_Conv_  (None, 252, 1, 32)       0         \n",
      " output_0_pad (ZeroPadding2D                                     \n",
      " )                                                               \n",
      "                                                                 \n",
      " temp_conv_temp_conv.3_Conv_  (None, 125, 1, 64)       6208      \n",
      " output_0 (Conv2D)                                               \n",
      "                                                                 \n",
      " temp_conv_temp_conv.4_Conv_  (None, 127, 1, 64)       0         \n",
      " output_0_pad (ZeroPadding2D                                     \n",
      " )                                                               \n",
      "                                                                 \n",
      " temp_conv_temp_conv.4_Conv_  (None, 125, 1, 64)       12352     \n",
      " output_0 (Conv2D)                                               \n",
      "                                                                 \n",
      " temp_conv_temp_conv.5_Relu_  (None, 125, 1, 64)       0         \n",
      " output_0 (Activation)                                           \n",
      "                                                                 \n",
      " Flatten_output_0_CHW (Lambd  (None, 64, 125, 1)       0         \n",
      " a)                                                              \n",
      "                                                                 \n",
      " Flatten_output_0 (Flatten)  (None, 8000)              0         \n",
      "                                                                 \n",
      " fc_fc.0_Gemm_output_0 (Dens  (None, 128)              1024128   \n",
      " e)                                                              \n",
      "                                                                 \n",
      " fc_fc.1_Relu_output_0 (Acti  (None, 128)              0         \n",
      " vation)                                                         \n",
      "                                                                 \n",
      " 25 (Dense)                  (None, 12)                1548      \n",
      "                                                                 \n",
      "=================================================================\n",
      "Total params: 1,053,964\n",
      "Trainable params: 1,053,964\n",
      "Non-trainable params: 0\n",
      "_________________________________________________________________\n"
     ]
    }
   ],
   "source": [
    "\n",
    "\n",
    "model.summary()"
   ]
  },
  {
   "cell_type": "code",
   "execution_count": 13,
   "metadata": {},
   "outputs": [],
   "source": [
    "from tensorflow.keras.models import load_model, Model\n",
    "from tensorflow.keras.layers import Permute, Flatten\n",
    "import tensorflow as tf\n",
    "\n",
    "lambda_layer = model.get_layer('Flatten_output_0_CHW')\n",
    "prev_layer = lambda_layer.input\n",
    "\n",
    "# Step 2: Insert a Permute layer instead of Lambda\n",
    "# Assuming original output was (None, 64, 125, 1) and we want to go to (None, 125, 1, 64)\n",
    "\n",
    "\n",
    "# Step 3: Continue the rest of the model\n",
    "# Get next layers after Lambda\n",
    "flatten = model.get_layer('Flatten_output_0')(prev_layer)\n",
    "fc1 = model.get_layer('fc_fc.0_Gemm_output_0')(flatten)\n",
    "act = model.get_layer('fc_fc.1_Relu_output_0')(fc1)\n",
    "out = model.get_layer('25')(act)\n",
    "\n",
    "# Step 4: Build new model\n",
    "patched_model = Model(inputs=model.input, outputs=out)\n",
    "\n",
    "# Optional: compile (only needed if training or using metrics/loss)\n",
    "patched_model.compile(optimizer='adam', loss='categorical_crossentropy')\n",
    "\n",
    "# Save the fixed model\n",
    "patched_model.save('model_no_lambda.h5')"
   ]
  },
  {
   "cell_type": "code",
   "execution_count": null,
   "metadata": {},
   "outputs": [],
   "source": []
  }
 ],
 "metadata": {
  "kernelspec": {
   "display_name": "constitution",
   "language": "python",
   "name": "python3"
  },
  "language_info": {
   "codemirror_mode": {
    "name": "ipython",
    "version": 3
   },
   "file_extension": ".py",
   "mimetype": "text/x-python",
   "name": "python",
   "nbconvert_exporter": "python",
   "pygments_lexer": "ipython3",
   "version": "3.9.16"
  }
 },
 "nbformat": 4,
 "nbformat_minor": 2
}
